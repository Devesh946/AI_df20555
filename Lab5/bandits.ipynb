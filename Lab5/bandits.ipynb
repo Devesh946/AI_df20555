{
  "nbformat": 4,
  "nbformat_minor": 0,
  "metadata": {
    "kernelspec": {
      "display_name": "Python 3",
      "language": "python",
      "name": "python3"
    },
    "language_info": {
      "codemirror_mode": {
        "name": "ipython",
        "version": 3
      },
      "file_extension": ".py",
      "mimetype": "text/x-python",
      "name": "python",
      "nbconvert_exporter": "python",
      "pygments_lexer": "ipython3",
      "version": "3.7.6"
    },
    "colab": {
      "name": "bandits.ipynb",
      "provenance": [],
      "include_colab_link": true
    }
  },
  "cells": [
    {
      "cell_type": "markdown",
      "metadata": {
        "id": "view-in-github",
        "colab_type": "text"
      },
      "source": [
        "<a href=\"https://colab.research.google.com/github/Devesh946/AI_df20555/blob/main/Lab5/bandits.ipynb\" target=\"_parent\"><img src=\"https://colab.research.google.com/assets/colab-badge.svg\" alt=\"Open In Colab\"/></a>"
      ]
    },
    {
      "cell_type": "code",
      "metadata": {
        "id": "G_ohAqyeAWh5"
      },
      "source": [
        "import numpy as np\n",
        "import matplotlib.pyplot as plt"
      ],
      "execution_count": 1,
      "outputs": []
    },
    {
      "cell_type": "code",
      "metadata": {
        "id": "NyfMa-ZzAWia"
      },
      "source": [
        "# Define our actions\n",
        "\n",
        "def action_0():\n",
        "    return np.random.choice([1, 0], p=[0.5, 0.5])\n",
        "\n",
        "def action_1():\n",
        "    return np.random.choice([1, 0], p=[0.6, 0.4])\n",
        "\n",
        "def action_2():\n",
        "    return np.random.choice([1, 0], p=[0.2, 0.8])\n",
        "\n",
        "rewards = [action_0, action_1, action_2]"
      ],
      "execution_count": 2,
      "outputs": []
    },
    {
      "cell_type": "code",
      "metadata": {
        "colab": {
          "base_uri": "https://localhost:8080/"
        },
        "id": "8OMYEfKiAWig",
        "outputId": "60235268-2601-4a5f-9f30-29b41b91f40c"
      },
      "source": [
        "for i in range(10):\n",
        "    print('Pull %d (action_0): reward=%d' % (i, rewards[0]()))"
      ],
      "execution_count": 3,
      "outputs": [
        {
          "output_type": "stream",
          "text": [
            "Pull 0 (action_0): reward=0\n",
            "Pull 1 (action_0): reward=0\n",
            "Pull 2 (action_0): reward=0\n",
            "Pull 3 (action_0): reward=0\n",
            "Pull 4 (action_0): reward=1\n",
            "Pull 5 (action_0): reward=0\n",
            "Pull 6 (action_0): reward=1\n",
            "Pull 7 (action_0): reward=1\n",
            "Pull 8 (action_0): reward=0\n",
            "Pull 9 (action_0): reward=1\n"
          ],
          "name": "stdout"
        }
      ]
    },
    {
      "cell_type": "code",
      "metadata": {
        "colab": {
          "base_uri": "https://localhost:8080/"
        },
        "id": "VVjefuf9AWip",
        "outputId": "f521b013-be28-406b-f901-7c5db6f95fed"
      },
      "source": [
        "# Simulate action values (Q): expected reward for each action\n",
        "pulls = 100000\n",
        "\n",
        "action_values = []\n",
        "for reward in rewards:\n",
        "    value = [reward() for _ in range(pulls)]  # execute each of the actions 'pulls' times\n",
        "    action_values.append(value)\n",
        "\n",
        "for action, value in enumerate(action_values):\n",
        "    print(\"Action %d: Q(a_%d)=%.2f\" % (action, action, np.mean(value)))"
      ],
      "execution_count": 4,
      "outputs": [
        {
          "output_type": "stream",
          "text": [
            "Action 0: Q(a_0)=0.50\n",
            "Action 1: Q(a_1)=0.60\n",
            "Action 2: Q(a_2)=0.20\n"
          ],
          "name": "stdout"
        }
      ]
    },
    {
      "cell_type": "code",
      "metadata": {
        "id": "6wY2EchRAWiu"
      },
      "source": [
        "# To simulate the values (V), we need to define a policy\n",
        "# (Value is the expected reward given the policy I'm following)\n",
        "\n",
        "# Define a policy:\n",
        "def policy_random():\n",
        "    '''Returns which action to perform using equal probabilities for each action'''\n",
        "    return np.random.choice([0, 1, 2], p=[1/3, 1/3, 1/3])\n",
        "\n",
        "\n",
        "def policy_better():\n",
        "    ''' A better policy than random: we choose actions 0 and 1 more often than action 2'''\n",
        "    return np.random.choice([0, 1, 2], p=[0.4, 0.5, 0.1])\n"
      ],
      "execution_count": 5,
      "outputs": []
    },
    {
      "cell_type": "code",
      "metadata": {
        "colab": {
          "base_uri": "https://localhost:8080/"
        },
        "id": "Qn70-2BnAWiy",
        "outputId": "39e523de-1226-472f-90e8-4232dbbdb50b"
      },
      "source": [
        "# Simulate Values using the random policy\n",
        "total_reward = 0\n",
        "for pull in range(pulls):\n",
        "    action = policy_random()\n",
        "    total_reward += rewards[action]()\n",
        "print(\"Total reward =\", total_reward)\n",
        "print(\"Average reward: V =\", total_reward/pulls)"
      ],
      "execution_count": 6,
      "outputs": [
        {
          "output_type": "stream",
          "text": [
            "Total reward = 43508\n",
            "Average reward: V = 0.43508\n"
          ],
          "name": "stdout"
        }
      ]
    },
    {
      "cell_type": "code",
      "metadata": {
        "colab": {
          "base_uri": "https://localhost:8080/"
        },
        "id": "_-6gLUeWAWi3",
        "outputId": "46412a4b-d695-4f6e-d2a7-acff8ec1560d"
      },
      "source": [
        "# Simulate Values using the better policy\n",
        "total_reward = 0\n",
        "for pull in range(pulls):\n",
        "    action = policy_better()\n",
        "    total_reward += rewards[action]()\n",
        "print(\"Total reward =\", total_reward)\n",
        "print(\"Average reward: V =\", total_reward/pulls)"
      ],
      "execution_count": 7,
      "outputs": [
        {
          "output_type": "stream",
          "text": [
            "Total reward = 52394\n",
            "Average reward: V = 0.52394\n"
          ],
          "name": "stdout"
        }
      ]
    },
    {
      "cell_type": "code",
      "metadata": {
        "colab": {
          "base_uri": "https://localhost:8080/"
        },
        "id": "vML7aYcDAWi6",
        "outputId": "09625d9b-f217-483e-fd2d-8139f6c8c72a"
      },
      "source": [
        "# Regret of the better policy\n",
        "V_star = max([np.mean(value) for value in action_values])\n",
        "print(\"V* =\", V_star)\n",
        "\n",
        "total_regret = 0\n",
        "for pull in range(pulls):\n",
        "    total_regret += (V_star - rewards[policy_better()]())\n",
        "print('Regret: I_t = %.2f' % (total_regret/pulls))"
      ],
      "execution_count": 8,
      "outputs": [
        {
          "output_type": "stream",
          "text": [
            "V* = 0.59938\n",
            "Regret: I_t = 0.08\n"
          ],
          "name": "stdout"
        }
      ]
    },
    {
      "cell_type": "code",
      "metadata": {
        "id": "pkhEOOz8AWi_"
      },
      "source": [
        "# Some bandit policies to explore:\n",
        "\n",
        "def policy_greedy(action_values):\n",
        "    '''Always returns the action for which the payoff is highest'''\n",
        "    best_action = np.argmax([np.mean(value) for value in action_values])\n",
        "    return best_action\n",
        "\n",
        "\n",
        "def policy_e_greedy(action_values, epsilon=0.05):\n",
        "    '''We explore with epsilon probability, and choose the best action the rest of the time'''\n",
        "    explore = np.random.choice([1, 0], p=[epsilon, 1-epsilon])\n",
        "    if explore:\n",
        "        # Random action\n",
        "        return policy_random()\n",
        "    else:\n",
        "        # Choose best action\n",
        "        return policy_greedy(action_values)\n",
        "\n"
      ],
      "execution_count": 9,
      "outputs": []
    },
    {
      "cell_type": "code",
      "metadata": {
        "id": "wyGqo1sTAWjC"
      },
      "source": [
        "# Implementing the decaying epsilon-greedy properly requires a class definition so we can store the epsilon values\n",
        "class DecayingEGreedy:\n",
        "    \n",
        "    def __init__(self, epsilon, decay=0.99, lower_bound=0):\n",
        "        self.epsilon = epsilon\n",
        "        self.decay = decay\n",
        "        self.lower_bound = lower_bound\n",
        "        \n",
        "    def policy(self, action_values):\n",
        "        if self.lower_bound > 0 and self.epsilon > self.lower_bound:\n",
        "            self.epsilon *= self.decay  # update epsilon\n",
        "        explore = np.random.choice([1, 0], p=[self.epsilon, 1-self.epsilon])  # explore vs exploit decision\n",
        "        if explore:\n",
        "            # Random action\n",
        "            return policy_random()\n",
        "        else:\n",
        "            # Choose best action\n",
        "            return policy_greedy(action_values)\n"
      ],
      "execution_count": 10,
      "outputs": []
    },
    {
      "cell_type": "code",
      "metadata": {
        "scrolled": true,
        "id": "fT5ZzbfZAWjE",
        "colab": {
          "base_uri": "https://localhost:8080/"
        },
        "outputId": "cff846b3-e59c-46e1-c0af-e89ac45cbbfe"
      },
      "source": [
        "# Let's test the decaying epsilon-greedy approach\n",
        "agent = DecayingEGreedy(epsilon=0.1, decay=0.99, lower_bound=0.03)\n",
        "\n",
        "# Full problem:\n",
        "action_values = [[], [], []] # initialise values\n",
        "rewards_decaying_e_greedy = []\n",
        "total_reward = 0\n",
        "print('Number of pulls\\t\\tTotal reward\\t\\tV')\n",
        "for pull in range(pulls):\n",
        "    action = agent.policy(action_values)  # choose action according to policy\n",
        "    reward = rewards[action]()  # get reward\n",
        "    action_values[action].append(reward)  # update action_values so we make better decisions down the line\n",
        "    total_reward += reward\n",
        "    if (pull+1) % 1000 == 0:\n",
        "        print('%d\\t\\t\\t%d\\t\\t\\t%.3f' % (pull+1, total_reward, total_reward/pull))\n",
        "        rewards_decaying_e_greedy.append(total_reward/pull)\n",
        "\n"
      ],
      "execution_count": 11,
      "outputs": [
        {
          "output_type": "stream",
          "text": [
            "Number of pulls\t\tTotal reward\t\tV\n",
            "1000\t\t\t559\t\t\t0.560\n"
          ],
          "name": "stdout"
        },
        {
          "output_type": "stream",
          "text": [
            "/usr/local/lib/python3.7/dist-packages/numpy/core/fromnumeric.py:3373: RuntimeWarning: Mean of empty slice.\n",
            "  out=out, **kwargs)\n",
            "/usr/local/lib/python3.7/dist-packages/numpy/core/_methods.py:170: RuntimeWarning: invalid value encountered in double_scalars\n",
            "  ret = ret.dtype.type(ret / rcount)\n"
          ],
          "name": "stderr"
        },
        {
          "output_type": "stream",
          "text": [
            "2000\t\t\t1176\t\t\t0.588\n",
            "3000\t\t\t1767\t\t\t0.589\n",
            "4000\t\t\t2347\t\t\t0.587\n",
            "5000\t\t\t2947\t\t\t0.590\n",
            "6000\t\t\t3564\t\t\t0.594\n",
            "7000\t\t\t4179\t\t\t0.597\n",
            "8000\t\t\t4761\t\t\t0.595\n",
            "9000\t\t\t5348\t\t\t0.594\n",
            "10000\t\t\t5932\t\t\t0.593\n",
            "11000\t\t\t6521\t\t\t0.593\n",
            "12000\t\t\t7093\t\t\t0.591\n",
            "13000\t\t\t7693\t\t\t0.592\n",
            "14000\t\t\t8296\t\t\t0.593\n",
            "15000\t\t\t8923\t\t\t0.595\n",
            "16000\t\t\t9502\t\t\t0.594\n",
            "17000\t\t\t10101\t\t\t0.594\n",
            "18000\t\t\t10696\t\t\t0.594\n",
            "19000\t\t\t11296\t\t\t0.595\n",
            "20000\t\t\t11884\t\t\t0.594\n",
            "21000\t\t\t12462\t\t\t0.593\n",
            "22000\t\t\t13057\t\t\t0.594\n",
            "23000\t\t\t13666\t\t\t0.594\n",
            "24000\t\t\t14255\t\t\t0.594\n",
            "25000\t\t\t14828\t\t\t0.593\n",
            "26000\t\t\t15423\t\t\t0.593\n",
            "27000\t\t\t16015\t\t\t0.593\n",
            "28000\t\t\t16603\t\t\t0.593\n",
            "29000\t\t\t17172\t\t\t0.592\n",
            "30000\t\t\t17758\t\t\t0.592\n",
            "31000\t\t\t18364\t\t\t0.592\n",
            "32000\t\t\t18963\t\t\t0.593\n",
            "33000\t\t\t19535\t\t\t0.592\n",
            "34000\t\t\t20116\t\t\t0.592\n",
            "35000\t\t\t20737\t\t\t0.593\n",
            "36000\t\t\t21314\t\t\t0.592\n",
            "37000\t\t\t21934\t\t\t0.593\n",
            "38000\t\t\t22521\t\t\t0.593\n",
            "39000\t\t\t23117\t\t\t0.593\n",
            "40000\t\t\t23682\t\t\t0.592\n",
            "41000\t\t\t24263\t\t\t0.592\n",
            "42000\t\t\t24892\t\t\t0.593\n",
            "43000\t\t\t25504\t\t\t0.593\n",
            "44000\t\t\t26102\t\t\t0.593\n",
            "45000\t\t\t26711\t\t\t0.594\n",
            "46000\t\t\t27284\t\t\t0.593\n",
            "47000\t\t\t27873\t\t\t0.593\n",
            "48000\t\t\t28450\t\t\t0.593\n",
            "49000\t\t\t29017\t\t\t0.592\n",
            "50000\t\t\t29614\t\t\t0.592\n",
            "51000\t\t\t30201\t\t\t0.592\n",
            "52000\t\t\t30776\t\t\t0.592\n",
            "53000\t\t\t31363\t\t\t0.592\n",
            "54000\t\t\t31943\t\t\t0.592\n",
            "55000\t\t\t32535\t\t\t0.592\n",
            "56000\t\t\t33128\t\t\t0.592\n",
            "57000\t\t\t33709\t\t\t0.591\n",
            "58000\t\t\t34311\t\t\t0.592\n",
            "59000\t\t\t34901\t\t\t0.592\n",
            "60000\t\t\t35505\t\t\t0.592\n",
            "61000\t\t\t36095\t\t\t0.592\n",
            "62000\t\t\t36687\t\t\t0.592\n",
            "63000\t\t\t37257\t\t\t0.591\n",
            "64000\t\t\t37853\t\t\t0.591\n",
            "65000\t\t\t38422\t\t\t0.591\n",
            "66000\t\t\t39045\t\t\t0.592\n",
            "67000\t\t\t39659\t\t\t0.592\n",
            "68000\t\t\t40274\t\t\t0.592\n",
            "69000\t\t\t40871\t\t\t0.592\n",
            "70000\t\t\t41464\t\t\t0.592\n",
            "71000\t\t\t42069\t\t\t0.593\n",
            "72000\t\t\t42660\t\t\t0.593\n",
            "73000\t\t\t43259\t\t\t0.593\n",
            "74000\t\t\t43811\t\t\t0.592\n",
            "75000\t\t\t44401\t\t\t0.592\n",
            "76000\t\t\t45030\t\t\t0.593\n",
            "77000\t\t\t45652\t\t\t0.593\n",
            "78000\t\t\t46253\t\t\t0.593\n",
            "79000\t\t\t46839\t\t\t0.593\n",
            "80000\t\t\t47439\t\t\t0.593\n",
            "81000\t\t\t48025\t\t\t0.593\n",
            "82000\t\t\t48612\t\t\t0.593\n",
            "83000\t\t\t49214\t\t\t0.593\n",
            "84000\t\t\t49777\t\t\t0.593\n",
            "85000\t\t\t50390\t\t\t0.593\n",
            "86000\t\t\t50979\t\t\t0.593\n",
            "87000\t\t\t51559\t\t\t0.593\n",
            "88000\t\t\t52171\t\t\t0.593\n",
            "89000\t\t\t52770\t\t\t0.593\n",
            "90000\t\t\t53381\t\t\t0.593\n",
            "91000\t\t\t53961\t\t\t0.593\n",
            "92000\t\t\t54559\t\t\t0.593\n",
            "93000\t\t\t55165\t\t\t0.593\n",
            "94000\t\t\t55740\t\t\t0.593\n",
            "95000\t\t\t56330\t\t\t0.593\n",
            "96000\t\t\t56902\t\t\t0.593\n",
            "97000\t\t\t57490\t\t\t0.593\n",
            "98000\t\t\t58086\t\t\t0.593\n",
            "99000\t\t\t58680\t\t\t0.593\n",
            "100000\t\t\t59277\t\t\t0.593\n"
          ],
          "name": "stdout"
        }
      ]
    },
    {
      "cell_type": "code",
      "metadata": {
        "id": "uLHnVY5AAWjL",
        "colab": {
          "base_uri": "https://localhost:8080/",
          "height": 297
        },
        "outputId": "f9dcc16e-9c87-4001-ad5c-67f0d6c814df"
      },
      "source": [
        "plt.plot(np.arange(1000, pulls+1, step=1000), rewards_decaying_e_greedy)\n",
        "plt.xlabel(\"Iterations\")\n",
        "plt.ylabel(\"Average reward (V)\")\n",
        "# The average reward is 0.594, which is very close to V* (0.6)!"
      ],
      "execution_count": 12,
      "outputs": [
        {
          "output_type": "execute_result",
          "data": {
            "text/plain": [
              "Text(0, 0.5, 'Average reward (V)')"
            ]
          },
          "metadata": {
            "tags": []
          },
          "execution_count": 12
        },
        {
          "output_type": "display_data",
          "data": {
            "image/png": "[encoded data removed]",
            "text/plain": [
              "<Figure size 432x288 with 1 Axes>"
            ]
          },
          "metadata": {
            "tags": [],
            "needs_background": "light"
          }
        }
      ]
    },
    {
      "cell_type": "code",
      "metadata": {
        "id": "KeR_XuqUAWjO"
      },
      "source": [
        "# Implementing the decaying epsilon-greedy properly requires a class definition so we can store the epsilon values\n",
        "class UCB:\n",
        "    \n",
        "    def __init__(self, C=0.5, n_arms=3):\n",
        "        self.C = C\n",
        "        self.pulls = 0\n",
        "        self.counts = np.asarray([0] * n_arms)\n",
        "        \n",
        "    def update_counts(self, arm):\n",
        "        self.pulls += 1\n",
        "        self.counts[arm] += 1\n",
        "        \n",
        "    def policy(self, action_values):\n",
        "        action_values = np.asarray([np.mean(value) for value in action_values])\n",
        "        uncertainty = np.sqrt(np.log(self.pulls) / self.counts)\n",
        "        ucb = action_values + self.C * uncertainty\n",
        "        action = np.argmax(ucb)\n",
        "        self.update_counts(action)\n",
        "        return action\n"
      ],
      "execution_count": 13,
      "outputs": []
    },
    {
      "cell_type": "code",
      "metadata": {
        "scrolled": true,
        "id": "eRI6_3tCAWjP",
        "colab": {
          "base_uri": "https://localhost:8080/"
        },
        "outputId": "427940ec-5523-4a6b-cfc0-1ae02c4a58b4"
      },
      "source": [
        "# Let's test the decaying epsilon-greedy approach\n",
        "agent = UCB(C=0.5)\n",
        "\n",
        "# Full problem:\n",
        "action_values = [[], [], []] # initialise values\n",
        "total_reward = 0 # reset reward\n",
        "rewards_ucb = []\n",
        "print('Number of pulls\\t\\tTotal reward\\t\\tV')\n",
        "for pull in range(pulls):\n",
        "    action = agent.policy(action_values)  # choose action according to policy\n",
        "    reward = rewards[action]()  # get reward\n",
        "    action_values[action].append(reward)  # update action_values so we make better decisions down the line\n",
        "    total_reward += reward\n",
        "    if (pull+1) % 1000 == 0:\n",
        "        print('%d\\t\\t\\t%d\\t\\t\\t%.3f' % (pull+1, total_reward, total_reward/pull))\n",
        "        rewards_ucb.append(total_reward/pull)\n"
      ],
      "execution_count": 14,
      "outputs": [
        {
          "output_type": "stream",
          "text": [
            "Number of pulls\t\tTotal reward\t\tV\n",
            "1000\t\t\t591\t\t\t0.592\n"
          ],
          "name": "stdout"
        },
        {
          "output_type": "stream",
          "text": [
            "/usr/local/lib/python3.7/dist-packages/numpy/core/fromnumeric.py:3373: RuntimeWarning: Mean of empty slice.\n",
            "  out=out, **kwargs)\n",
            "/usr/local/lib/python3.7/dist-packages/numpy/core/_methods.py:170: RuntimeWarning: invalid value encountered in double_scalars\n",
            "  ret = ret.dtype.type(ret / rcount)\n",
            "/usr/local/lib/python3.7/dist-packages/ipykernel_launcher.py:15: RuntimeWarning: divide by zero encountered in log\n",
            "  from ipykernel import kernelapp as app\n",
            "/usr/local/lib/python3.7/dist-packages/ipykernel_launcher.py:15: RuntimeWarning: invalid value encountered in sqrt\n",
            "  from ipykernel import kernelapp as app\n",
            "/usr/local/lib/python3.7/dist-packages/ipykernel_launcher.py:15: RuntimeWarning: invalid value encountered in true_divide\n",
            "  from ipykernel import kernelapp as app\n",
            "/usr/local/lib/python3.7/dist-packages/ipykernel_launcher.py:15: RuntimeWarning: divide by zero encountered in true_divide\n",
            "  from ipykernel import kernelapp as app\n"
          ],
          "name": "stderr"
        },
        {
          "output_type": "stream",
          "text": [
            "2000\t\t\t1191\t\t\t0.596\n",
            "3000\t\t\t1774\t\t\t0.592\n",
            "4000\t\t\t2379\t\t\t0.595\n",
            "5000\t\t\t2986\t\t\t0.597\n",
            "6000\t\t\t3579\t\t\t0.597\n",
            "7000\t\t\t4208\t\t\t0.601\n",
            "8000\t\t\t4834\t\t\t0.604\n",
            "9000\t\t\t5438\t\t\t0.604\n",
            "10000\t\t\t6027\t\t\t0.603\n",
            "11000\t\t\t6621\t\t\t0.602\n",
            "12000\t\t\t7209\t\t\t0.601\n",
            "13000\t\t\t7770\t\t\t0.598\n",
            "14000\t\t\t8370\t\t\t0.598\n",
            "15000\t\t\t8953\t\t\t0.597\n",
            "16000\t\t\t9545\t\t\t0.597\n",
            "17000\t\t\t10143\t\t\t0.597\n",
            "18000\t\t\t10761\t\t\t0.598\n",
            "19000\t\t\t11387\t\t\t0.599\n",
            "20000\t\t\t11998\t\t\t0.600\n",
            "21000\t\t\t12607\t\t\t0.600\n",
            "22000\t\t\t13195\t\t\t0.600\n",
            "23000\t\t\t13792\t\t\t0.600\n",
            "24000\t\t\t14416\t\t\t0.601\n",
            "25000\t\t\t15014\t\t\t0.601\n",
            "26000\t\t\t15616\t\t\t0.601\n",
            "27000\t\t\t16223\t\t\t0.601\n",
            "28000\t\t\t16820\t\t\t0.601\n",
            "29000\t\t\t17421\t\t\t0.601\n",
            "30000\t\t\t18019\t\t\t0.601\n",
            "31000\t\t\t18604\t\t\t0.600\n",
            "32000\t\t\t19201\t\t\t0.600\n",
            "33000\t\t\t19811\t\t\t0.600\n",
            "34000\t\t\t20412\t\t\t0.600\n",
            "35000\t\t\t21009\t\t\t0.600\n",
            "36000\t\t\t21619\t\t\t0.601\n",
            "37000\t\t\t22211\t\t\t0.600\n",
            "38000\t\t\t22820\t\t\t0.601\n",
            "39000\t\t\t23445\t\t\t0.601\n",
            "40000\t\t\t24048\t\t\t0.601\n",
            "41000\t\t\t24661\t\t\t0.602\n",
            "42000\t\t\t25265\t\t\t0.602\n",
            "43000\t\t\t25863\t\t\t0.601\n",
            "44000\t\t\t26483\t\t\t0.602\n",
            "45000\t\t\t27070\t\t\t0.602\n",
            "46000\t\t\t27691\t\t\t0.602\n",
            "47000\t\t\t28284\t\t\t0.602\n",
            "48000\t\t\t28889\t\t\t0.602\n",
            "49000\t\t\t29496\t\t\t0.602\n",
            "50000\t\t\t30073\t\t\t0.601\n",
            "51000\t\t\t30659\t\t\t0.601\n",
            "52000\t\t\t31253\t\t\t0.601\n",
            "53000\t\t\t31835\t\t\t0.601\n",
            "54000\t\t\t32404\t\t\t0.600\n",
            "55000\t\t\t32992\t\t\t0.600\n",
            "56000\t\t\t33573\t\t\t0.600\n",
            "57000\t\t\t34189\t\t\t0.600\n",
            "58000\t\t\t34825\t\t\t0.600\n",
            "59000\t\t\t35410\t\t\t0.600\n",
            "60000\t\t\t36024\t\t\t0.600\n",
            "61000\t\t\t36617\t\t\t0.600\n",
            "62000\t\t\t37233\t\t\t0.601\n",
            "63000\t\t\t37853\t\t\t0.601\n",
            "64000\t\t\t38453\t\t\t0.601\n",
            "65000\t\t\t39054\t\t\t0.601\n",
            "66000\t\t\t39671\t\t\t0.601\n",
            "67000\t\t\t40280\t\t\t0.601\n",
            "68000\t\t\t40889\t\t\t0.601\n",
            "69000\t\t\t41490\t\t\t0.601\n",
            "70000\t\t\t42083\t\t\t0.601\n",
            "71000\t\t\t42687\t\t\t0.601\n",
            "72000\t\t\t43301\t\t\t0.601\n",
            "73000\t\t\t43921\t\t\t0.602\n",
            "74000\t\t\t44521\t\t\t0.602\n",
            "75000\t\t\t45112\t\t\t0.602\n",
            "76000\t\t\t45729\t\t\t0.602\n",
            "77000\t\t\t46328\t\t\t0.602\n",
            "78000\t\t\t46944\t\t\t0.602\n",
            "79000\t\t\t47525\t\t\t0.602\n",
            "80000\t\t\t48096\t\t\t0.601\n",
            "81000\t\t\t48700\t\t\t0.601\n",
            "82000\t\t\t49318\t\t\t0.601\n",
            "83000\t\t\t49918\t\t\t0.601\n",
            "84000\t\t\t50512\t\t\t0.601\n",
            "85000\t\t\t51132\t\t\t0.602\n",
            "86000\t\t\t51737\t\t\t0.602\n",
            "87000\t\t\t52323\t\t\t0.601\n",
            "88000\t\t\t52933\t\t\t0.602\n",
            "89000\t\t\t53518\t\t\t0.601\n",
            "90000\t\t\t54128\t\t\t0.601\n",
            "91000\t\t\t54712\t\t\t0.601\n",
            "92000\t\t\t55309\t\t\t0.601\n",
            "93000\t\t\t55897\t\t\t0.601\n",
            "94000\t\t\t56497\t\t\t0.601\n",
            "95000\t\t\t57089\t\t\t0.601\n",
            "96000\t\t\t57689\t\t\t0.601\n",
            "97000\t\t\t58282\t\t\t0.601\n",
            "98000\t\t\t58901\t\t\t0.601\n",
            "99000\t\t\t59523\t\t\t0.601\n",
            "100000\t\t\t60121\t\t\t0.601\n"
          ],
          "name": "stdout"
        }
      ]
    },
    {
      "cell_type": "code",
      "metadata": {
        "id": "TT8pNLSlAWjR",
        "colab": {
          "base_uri": "https://localhost:8080/",
          "height": 297
        },
        "outputId": "bcaa400c-4efc-48da-c70b-e6af4c19ec74"
      },
      "source": [
        "plt.plot(np.arange(1000, pulls+1, step=1000), rewards_ucb)\n",
        "plt.xlabel(\"Iterations\")\n",
        "plt.ylabel(\"Average reward (V)\")"
      ],
      "execution_count": 15,
      "outputs": [
        {
          "output_type": "execute_result",
          "data": {
            "text/plain": [
              "Text(0, 0.5, 'Average reward (V)')"
            ]
          },
          "metadata": {
            "tags": []
          },
          "execution_count": 15
        },
        {
          "output_type": "display_data",
          "data": {
            "image/png": "[encoded data removed]",
            "text/plain": [
              "<Figure size 432x288 with 1 Axes>"
            ]
          },
          "metadata": {
            "tags": [],
            "needs_background": "light"
          }
        }
      ]
    },
    {
      "cell_type": "code",
      "metadata": {
        "id": "zgfnlMU6AWjT"
      },
      "source": [
        ""
      ],
      "execution_count": 15,
      "outputs": []
    }
  ]
}